{
 "cells": [
  {
   "cell_type": "code",
   "execution_count": 8,
   "metadata": {},
   "outputs": [],
   "source": [
    "import os\n",
    "import pandas as pd"
   ]
  },
  {
   "cell_type": "code",
   "execution_count": 9,
   "metadata": {},
   "outputs": [],
   "source": [
    "from collections import defaultdict as dd\n",
    "\n",
    "rec_dd = lambda: dd(rec_dd)\n",
    "\n",
    "def dd_to_dict(d):\n",
    "    if isinstance(d, dd):\n",
    "        d = {k: dd_to_dict(v) for k, v in d.items()}\n",
    "    return d"
   ]
  },
  {
   "cell_type": "code",
   "execution_count": 10,
   "metadata": {},
   "outputs": [
    {
     "name": "stdout",
     "output_type": "stream",
     "text": [
      "[620085]\n",
      "[267004]\n",
      "[2655]\n",
      "[18223]\n",
      "[53946]\n",
      "[2163744]\n",
      "[72726]\n",
      "[1234359]\n"
     ]
    }
   ],
   "source": [
    "tr_dir = \"trfiles\"\n",
    "\n",
    "tr_names = [\n",
    "    \"crossbar_64_bt.W.64_trace_1.00e09_4096_620085_62590300.tr\",\n",
    "    \"crossbar_64_cg.W.64_trace_1.00e09_4096_267004_41961500.tr\",\n",
    "    \"crossbar_64_ep.W.64_trace_1.00e09_4096_2655_9327740.tr\",\n",
    "    \"crossbar_64_ft.W.64_trace_1.00e09_4096_18223_2379540.tr\",\n",
    "    \"crossbar_64_is.W.64_trace_1.00e09_4096_53946_4909650.tr\",\n",
    "    \"crossbar_64_lu.W.64_trace_1.00e09_4096_2163744_243721000.tr\",\n",
    "    \"crossbar_64_mg.W.64_trace_1.00e09_4096_72726_5670700.tr\",\n",
    "    \"crossbar_64_sp.W.64_trace_1.00e09_4096_1234359_134421000.tr\"\n",
    "]\n",
    "\n",
    "apps = [\"BT\", \"CG\", \"EP\", \"FT\", \"IS\", \"LU\", \"MG\", \"SP\"]\n",
    "\n",
    "tr_app = dict(zip(tr_names, apps))\n",
    "\n",
    "sample_period = 100000\n",
    "cycle_margin = 10000\n",
    "\n",
    "summary = rec_dd()\n",
    "\n",
    "for tr_name in tr_names:\n",
    "    tmp_app = tr_app[tr_name]\n",
    "    summary[tmp_app][\"app\"] = tmp_app\n",
    "    summary[tmp_app][\"num_packets\"] = 0\n",
    "    summary[tmp_app][\"num_flits\"] = 0\n",
    "\n",
    "    tr_path = os.path.join(tr_dir, tr_name)\n",
    "    with open(tr_path, mode=\"r\") as f:\n",
    "        is_head = True\n",
    "        for line in f:\n",
    "            row = list(map(int, line.split()))\n",
    "            if is_head:\n",
    "                print(row)\n",
    "                summary[tmp_app][\"num_packets\"] = row[0]\n",
    "                is_head = False\n",
    "            else:\n",
    "                cycle, src, dst, flits = row\n",
    "                summary[tmp_app][\"num_flits\"] += flits\n",
    "\n",
    "    trace_cycles = cycle\n",
    "    max_samples = (trace_cycles + cycle_margin) // sample_period + 1\n",
    "    summary[tmp_app][\"sim_cycles\"] = sample_period * max_samples\n",
    "                # exit(1)\n",
    "\n",
    "summary = dd_to_dict(summary)\n",
    "# max_samples = (trace_cycles + cycle_margin) // sample_period + 1\n"
   ]
  },
  {
   "cell_type": "code",
   "execution_count": 11,
   "metadata": {},
   "outputs": [
    {
     "name": "stdout",
     "output_type": "stream",
     "text": [
      "   app num_packets num_flits sim_cycles\n",
      "BT  BT      620085    697653   62700000\n",
      "CG  CG      267004    370172   42000000\n",
      "EP  EP        2655      2655    9400000\n",
      "FT  FT       18223     25903    2400000\n",
      "IS  IS       53946     58874    5000000\n",
      "LU  LU     2163744   2308448  243800000\n",
      "MG  MG       72726     84886    5700000\n",
      "SP  SP     1234359   1618884  134500000\n",
      "\\begin{tabular}{llll}\n",
      " & num_packets & num_flits & sim_cycles \\\\\n",
      "BT & 620,085 & 697,653 & 62,700,000 \\\\\n",
      "CG & 267,004 & 370,172 & 42,000,000 \\\\\n",
      "EP & 2,655 & 2,655 & 9,400,000 \\\\\n",
      "FT & 18,223 & 25,903 & 2,400,000 \\\\\n",
      "IS & 53,946 & 58,874 & 5,000,000 \\\\\n",
      "LU & 2,163,744 & 2,308,448 & 243,800,000 \\\\\n",
      "MG & 72,726 & 84,886 & 5,700,000 \\\\\n",
      "SP & 1,234,359 & 1,618,884 & 134,500,000 \\\\\n",
      "\\end{tabular}\n",
      "\n"
     ]
    }
   ],
   "source": [
    "\n",
    "df = pd.DataFrame(summary)\n",
    "df = df.transpose()\n",
    "print(df)\n",
    "\n",
    "df2 = df.drop(\"app\", axis=1)\n",
    "\n",
    "s = df2.style\n",
    "s.format('{:,}'.format)\n",
    "print(s.to_latex())\n",
    "# num_nodes = 64\n",
    "\n",
    "# df[\"injection_rate\"] = df.apply(lambda x: x[\"num_flits\"] / num_nodes / x[\"sim_cycles\"], axis=1)\n",
    "\n",
    "# print(df)\n",
    "\n"
   ]
  }
 ],
 "metadata": {
  "kernelspec": {
   "display_name": "Python 3.9.12 ('g-gear')",
   "language": "python",
   "name": "python3"
  },
  "language_info": {
   "codemirror_mode": {
    "name": "ipython",
    "version": 3
   },
   "file_extension": ".py",
   "mimetype": "text/x-python",
   "name": "python",
   "nbconvert_exporter": "python",
   "pygments_lexer": "ipython3",
   "version": "3.9.12"
  },
  "orig_nbformat": 4,
  "vscode": {
   "interpreter": {
    "hash": "3821650dd771f723b217192a2ec0b4cb8a6998972757b1316f516a83a8893aef"
   }
  }
 },
 "nbformat": 4,
 "nbformat_minor": 2
}
