{
 "cells": [
  {
   "cell_type": "code",
   "execution_count": 108,
   "metadata": {},
   "outputs": [],
   "source": [
    "import csv\n",
    "import matplotlib.pyplot as plt\n",
    "import numpy as np\n",
    "import random\n",
    "from sys import exit\n",
    "import csv\n",
    "import itertools as it\n",
    "import os\n",
    "\n",
    "from collections import defaultdict as dd\n",
    "\n",
    "import pandas as pd"
   ]
  },
  {
   "cell_type": "code",
   "execution_count": 109,
   "metadata": {},
   "outputs": [],
   "source": [
    "rec_dd = lambda: dd(rec_dd)\n",
    "\n",
    "def dd_to_dict(d):\n",
    "    if isinstance(d, dd):\n",
    "        d = {k: dd_to_dict(v) for k, v in d.items()}\n",
    "    return d"
   ]
  },
  {
   "cell_type": "code",
   "execution_count": 110,
   "metadata": {},
   "outputs": [
    {
     "name": "stdout",
     "output_type": "stream",
     "text": [
      "{'crossbar_64_bt.W.64_trace_1.00e09_4096_620085_62590300.tr': 'BT', 'crossbar_64_cg.W.64_trace_1.00e09_4096_267004_41961500.tr': 'CG', 'crossbar_64_ep.W.64_trace_1.00e09_4096_2655_9327740.tr': 'EP', 'crossbar_64_ft.W.64_trace_1.00e09_4096_18223_2379540.tr': 'FT', 'crossbar_64_is.W.64_trace_1.00e09_4096_53946_4909650.tr': 'IS', 'crossbar_64_lu.W.64_trace_1.00e09_4096_2163744_243721000.tr': 'LU', 'crossbar_64_mg.W.64_trace_1.00e09_4096_72726_5670700.tr': 'MG', 'crossbar_64_sp.W.64_trace_1.00e09_4096_1234359_134421000.tr': 'SP'}\n"
     ]
    }
   ],
   "source": [
    "apps = [\"BT\", \"CG\", \"EP\", \"FT\", \"IS\", \"LU\", \"MG\", \"SP\"]\n",
    "labels = apps\n",
    "\n",
    "script_name = \"mysim_rroute_trace.py\"\n",
    "script_dir = \"../src_nnc_calc1\"\n",
    "tp_dir = \"rtgen_rr_edgefiles\"\n",
    "txt_dir = \"rtgen_rr_edgefiles\"\n",
    "tr_dir = \"trfiles\"\n",
    "log_dir = \"log_rroute\"\n",
    "net_name = \"reconfroute\"\n",
    "\n",
    "num_splits = [2**i for i in range(14)]\n",
    "legends = num_splits\n",
    "\n",
    "tr_names = [\n",
    "    \"crossbar_64_bt.W.64_trace_1.00e09_4096_620085_62590300.tr\",\n",
    "    \"crossbar_64_cg.W.64_trace_1.00e09_4096_267004_41961500.tr\",\n",
    "    \"crossbar_64_ep.W.64_trace_1.00e09_4096_2655_9327740.tr\",\n",
    "    \"crossbar_64_ft.W.64_trace_1.00e09_4096_18223_2379540.tr\",\n",
    "    \"crossbar_64_is.W.64_trace_1.00e09_4096_53946_4909650.tr\",\n",
    "    \"crossbar_64_lu.W.64_trace_1.00e09_4096_2163744_243721000.tr\",\n",
    "    \"crossbar_64_mg.W.64_trace_1.00e09_4096_72726_5670700.tr\",\n",
    "    \"crossbar_64_sp.W.64_trace_1.00e09_4096_1234359_134421000.tr\"\n",
    "]\n",
    "\n",
    "tr_app = dict(zip(tr_names, apps))\n",
    "print(tr_app)\n",
    "\n",
    "num_node = 64\n",
    "degree_seeds = [(4,1),(8,4)]\n",
    "\n",
    "# trans_margins = [1,5,10]\n",
    "trans_margin = 10\n"
   ]
  },
  {
   "cell_type": "code",
   "execution_count": 111,
   "metadata": {},
   "outputs": [
    {
     "name": "stdout",
     "output_type": "stream",
     "text": [
      "   app    1    2         4         8        16        32        64       128  \\\n",
      "BT  BT  1.0  1.0  1.000000  1.000000  1.000000  1.000000  1.000000  1.000000   \n",
      "CG  CG  1.0  1.0  1.000000  1.000000  1.000000  1.000000  1.000000  1.000000   \n",
      "EP  EP  1.0  1.0  1.000000  1.000000  1.000000  1.000000  1.000000  1.000000   \n",
      "FT  FT  1.0  1.0  1.000000  1.000000  1.000000  1.000000  1.023014  1.029900   \n",
      "IS  IS  1.0  1.0  1.000000  1.000000  1.000000  1.000000  1.000000  0.999824   \n",
      "LU  LU  1.0  1.0  1.000000  1.000000  1.000000  1.000000  1.000000  1.000000   \n",
      "MG  MG  1.0  1.0  0.999326  0.995791  0.995809  0.995154  0.994900  0.994511   \n",
      "SP  SP  1.0  1.0  1.000000  1.000000  1.000000  1.000000  1.000000  1.000000   \n",
      "\n",
      "         256       512      1024      2048      4096      8192  \n",
      "BT  1.000000  0.997802  0.996310  0.995413  0.993320  0.989898  \n",
      "CG  1.000000  1.000000  1.000000  1.000000  0.998139  0.991021  \n",
      "EP  1.000000  1.000000  1.004591  1.001169  0.973633  0.967315  \n",
      "FT  1.050646  1.023657  1.027279  1.032899  1.003550  0.989652  \n",
      "IS  0.997295  0.993535  0.989054  0.981629  0.974769  0.963943  \n",
      "LU  1.000000  1.000000  0.999511  0.998609  0.998367  0.998113  \n",
      "MG  0.994239  0.993151  0.988571  0.982773  0.978403  0.974712  \n",
      "SP  1.000000  1.000006  0.997824  0.996298  0.995479  0.995329  \n",
      "IS-8192:\n",
      "0.963942760308793\n",
      "0.036057239691207\n",
      "   app    1    2         4        8       16        32        64       128  \\\n",
      "BT  BT  1.0  1.0  1.000000  1.00000  1.00000  1.000000  1.000000  1.000000   \n",
      "CG  CG  1.0  1.0  1.000000  1.00000  1.00000  1.000000  1.000000  1.000000   \n",
      "EP  EP  1.0  1.0  1.000000  1.00000  1.00000  1.000000  0.999689  0.999689   \n",
      "FT  FT  1.0  1.0  1.000000  1.00000  1.00000  0.998159  0.999374  0.982669   \n",
      "IS  IS  1.0  1.0  1.000000  1.00000  1.00000  1.000000  0.999689  0.997255   \n",
      "LU  LU  1.0  1.0  1.000000  1.00000  1.00000  1.000000  1.000000  1.000000   \n",
      "MG  MG  1.0  1.0  1.000166  0.99965  0.99923  0.998740  0.998504  0.998251   \n",
      "SP  SP  1.0  1.0  1.000000  1.00000  1.00000  1.000000  1.000000  1.000000   \n",
      "\n",
      "         256       512      1024      2048      4096      8192  \n",
      "BT  1.000000  1.000000  1.000000  0.999982  0.999202  0.997264  \n",
      "CG  1.000000  1.000000  0.999632  0.997566  0.995009  0.991182  \n",
      "EP  0.997710  0.998064  0.995463  0.994599  0.989362  0.975310  \n",
      "FT  0.982246  0.976292  0.979063  0.975140  0.976709  0.978753  \n",
      "IS  0.994715  0.991552  0.985796  0.979267  0.972089  0.968829  \n",
      "LU  1.000000  1.000000  1.000000  1.000000  0.996748  0.996006  \n",
      "MG  0.997778  0.996038  0.992635  0.990903  0.984063  0.977170  \n",
      "SP  1.000000  1.000000  1.000000  1.000000  0.999835  0.999039  \n",
      "IS-8192:\n",
      "0.968829392222005\n",
      "0.031170607777994963\n"
     ]
    },
    {
     "data": {
      "image/png": "[encoded data removed]",
      "text/plain": [
       "<Figure size 432x288 with 1 Axes>"
      ]
     },
     "metadata": {
      "needs_background": "light"
     },
     "output_type": "display_data"
    },
    {
     "data": {
      "image/png": "[encoded data removed]",
      "text/plain": [
       "<Figure size 432x288 with 1 Axes>"
      ]
     },
     "metadata": {
      "needs_background": "light"
     },
     "output_type": "display_data"
    }
   ],
   "source": [
    "plot_data = rec_dd()\n",
    "\n",
    "for (degree, num_seed) in degree_seeds:\n",
    "    heights = [[0.0 for _ in labels] for _ in legends]\n",
    "\n",
    "    for num_split, tr_name in it.product(num_splits, tr_names):\n",
    "        tp_name = \"{}_{}_{}_hops_ud.tp\".format(num_node, degree, num_seed)\n",
    "        txt_name = \"{}_{}_{}_{}_{}.txt\".format(tr_name, num_split, degree, num_seed, trans_margin)\n",
    "        rlog_name = \"%s_%s_%s.rlog\" % (tp_name, txt_name, tr_name)\n",
    "        if not os.path.exists(os.path.join(log_dir, rlog_name)):\n",
    "            print(\"no such file:\", rlog_name)\n",
    "            continue\n",
    "\n",
    "        with open(os.path.join(log_dir, rlog_name)) as f:\n",
    "            reader = csv.reader(f, delimiter=' ')\n",
    "            l = [row for row in reader]\n",
    "            # print(l)\n",
    "            l_data = [float(i) for i in l[0]]\n",
    "            # print(l_data)\n",
    "            heights[num_splits.index(num_split)][tr_names.index(tr_name)] = l_data[1]\n",
    "\n",
    "    # print(heights)\n",
    "\n",
    "    height_base = list(heights[0])\n",
    "    for j, height in enumerate(heights):\n",
    "        for i in range(len(height)):\n",
    "            if j == 0:\n",
    "                plot_data[\"app\"][labels[i]] = labels[i]\n",
    "            height[i] = height[i] / height_base[i]\n",
    "            plot_data[legends[j]][labels[i]] = height[i]\n",
    "            # exit(1)\n",
    "        # print(edge_basename)\n",
    "    # print(heights)\n",
    "\n",
    "    plot_data = dd_to_dict(plot_data)\n",
    "    # print(plot_data)\n",
    "\n",
    "    df = pd.DataFrame(plot_data)\n",
    "    print(df)\n",
    "\n",
    "    df.plot(x=\"app\", y=[2 ** i for i in range(14)], kind=\"bar\", ylim=[0.95,1.075])\n",
    "\n",
    "    # print(df.min())\n",
    "    print(\"IS-8192:\")\n",
    "    print(df.loc[\"IS\",8192])\n",
    "    print(1.0-df.loc[\"IS\",8192])\n",
    "    \n"
   ]
  }
 ],
 "metadata": {
  "kernelspec": {
   "display_name": "Python 3.9.12 ('g-gear')",
   "language": "python",
   "name": "python3"
  },
  "language_info": {
   "codemirror_mode": {
    "name": "ipython",
    "version": 3
   },
   "file_extension": ".py",
   "mimetype": "text/x-python",
   "name": "python",
   "nbconvert_exporter": "python",
   "pygments_lexer": "ipython3",
   "version": "3.9.12"
  },
  "orig_nbformat": 4,
  "vscode": {
   "interpreter": {
    "hash": "3821650dd771f723b217192a2ec0b4cb8a6998972757b1316f516a83a8893aef"
   }
  }
 },
 "nbformat": 4,
 "nbformat_minor": 2
}
